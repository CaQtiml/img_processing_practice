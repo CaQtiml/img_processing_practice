{
 "cells": [
  {
   "cell_type": "code",
   "execution_count": 1,
   "metadata": {},
   "outputs": [],
   "source": [
    "import cv2\n",
    "import matplotlib.pyplot as plt\n",
    "import numpy as np\n",
    "import os\n",
    "import math\n",
    "import seaborn as sns\n",
    "from scipy import signal\n",
    "from matplotlib.colors import LogNorm, Normalize"
   ]
  },
  {
   "cell_type": "code",
   "execution_count": 2,
   "metadata": {},
   "outputs": [],
   "source": [
    "a = np.expand_dims(np.array([-1,0,1]), axis=1)\n",
    "b = np.expand_dims(np.array([3,10,3]), axis=1)"
   ]
  },
  {
   "cell_type": "code",
   "execution_count": 4,
   "metadata": {},
   "outputs": [
    {
     "name": "stdout",
     "output_type": "stream",
     "text": [
      "Sobel Improved Edge Detector for x-axis (Not multiplied by 1/32 yet)\n",
      "[[ -3   0   3]\n",
      " [-10   0  10]\n",
      " [ -3   0   3]]\n",
      "Sobel Improved Edge Detector for y-axis (Not multiplied by 1/32 yet)\n",
      "[[ -3 -10  -3]\n",
      " [  0   0   0]\n",
      " [  3  10   3]]\n"
     ]
    }
   ],
   "source": [
    "H_x_sobel_imp = b@a.T\n",
    "print(\"Sobel Improved Edge Detector for x-axis (Not multiplied by 1/32 yet)\")\n",
    "print(H_x_sobel_imp)\n",
    "H_y_sobel_imp = a@b.T\n",
    "print(\"Sobel Improved Edge Detector for y-axis (Not multiplied by 1/32 yet)\")\n",
    "print(H_y_sobel_imp)"
   ]
  }
 ],
 "metadata": {
  "kernelspec": {
   "display_name": "Python 3.9.13 ('imgvenv': venv)",
   "language": "python",
   "name": "python3"
  },
  "language_info": {
   "codemirror_mode": {
    "name": "ipython",
    "version": 3
   },
   "file_extension": ".py",
   "mimetype": "text/x-python",
   "name": "python",
   "nbconvert_exporter": "python",
   "pygments_lexer": "ipython3",
   "version": "3.9.13"
  },
  "orig_nbformat": 4,
  "vscode": {
   "interpreter": {
    "hash": "3d4349fc3e6605faa78eb3d86cb4285d4b91b069c97e24b102f0bac68203ec24"
   }
  }
 },
 "nbformat": 4,
 "nbformat_minor": 2
}
