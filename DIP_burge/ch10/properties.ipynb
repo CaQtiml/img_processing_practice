{
 "cells": [
  {
   "cell_type": "code",
   "execution_count": 1,
   "metadata": {},
   "outputs": [],
   "source": [
    "import cv2\n",
    "import matplotlib.pyplot as plt\n",
    "import numpy as np\n",
    "import os\n",
    "import math\n",
    "import seaborn as sns\n",
    "from scipy import signal\n",
    "from scipy.ndimage import gaussian_filter\n",
    "from matplotlib.colors import LogNorm, Normalize\n",
    "import random\n",
    "from queue import Queue"
   ]
  },
  {
   "cell_type": "code",
   "execution_count": 31,
   "metadata": {},
   "outputs": [],
   "source": [
    "def moment(img, order_p, order_q, fg_val):\n",
    "    Mpq = 0.0\n",
    "    (height, width) = img.shape\n",
    "    for h in range(height):\n",
    "        for w in range(width):\n",
    "            if(img[h,w]==fg_val):\n",
    "                Mpq += ((w**order_p)*(h**order_q))\n",
    "    return Mpq"
   ]
  },
  {
   "cell_type": "code",
   "execution_count": 32,
   "metadata": {},
   "outputs": [],
   "source": [
    "def central_moment(img, order_p, order_q, fg_val):\n",
    "    m_00 = moment(img, 0, 0, fg_val)\n",
    "    x_ctr = moment(img, 1, 0, fg_val) / m_00\n",
    "    y_ctr = moment(img, 0, 1, fg_val) / m_00\n",
    "    (height, width) = img.shape\n",
    "    cMpq = 0.0\n",
    "    for h in range(height):\n",
    "        for w in range(width):\n",
    "            if(img[h,w]==fg_val):\n",
    "                cMpq += ((w-x_ctr)**order_p)*((h-y_ctr)**order_q)\n",
    "    return cMpq"
   ]
  },
  {
   "cell_type": "code",
   "execution_count": 33,
   "metadata": {},
   "outputs": [],
   "source": [
    "def normalized_central_moment(img, order_p, order_q, fg_val):\n",
    "    m_00 = moment(img, 0, 0, fg_val)\n",
    "    norm = m_00 ** (0.5*(order_p+order_q+2))\n",
    "    return central_moment(img, order_p, order_q, fg_val)/norm"
   ]
  },
  {
   "cell_type": "code",
   "execution_count": 41,
   "metadata": {},
   "outputs": [],
   "source": [
    "def compute_degree(img, fg_value):\n",
    "    cm_11 = central_moment(img, 1, 1, fg_value)\n",
    "    cm_20 = central_moment(img, 2, 0, fg_value)\n",
    "    cm_02 = central_moment(img, 0, 2, fg_value)\n",
    "    img_rotate_degree = math.degrees(0.5*math.atan2(2*cm_11, cm_20-cm_02))\n",
    "    return img_rotate_degree"
   ]
  },
  {
   "cell_type": "code",
   "execution_count": 45,
   "metadata": {},
   "outputs": [],
   "source": [
    "bolt_img = plt.imread(r\"D:\\image_processing_practice\\DIP_Java\\imagingbook_images_de3\\ch10\\bolt-clean.tif\")[:,:,0]"
   ]
  },
  {
   "cell_type": "code",
   "execution_count": 46,
   "metadata": {},
   "outputs": [
    {
     "name": "stdout",
     "output_type": "stream",
     "text": [
      "(224, 250)\n"
     ]
    },
    {
     "data": {
      "image/png": "[encoded data removed]",
      "text/plain": [
       "<Figure size 432x288 with 1 Axes>"
      ]
     },
     "metadata": {
      "needs_background": "light"
     },
     "output_type": "display_data"
    }
   ],
   "source": [
    "print(bolt_img.shape)\n",
    "plt.imshow(bolt_img, cmap=\"gray\")\n",
    "plt.show()"
   ]
  },
  {
   "cell_type": "code",
   "execution_count": 47,
   "metadata": {},
   "outputs": [
    {
     "name": "stdout",
     "output_type": "stream",
     "text": [
      "37.404351266820434\n"
     ]
    }
   ],
   "source": [
    "bolt_img_rotate_degree = compute_degree(bolt_img, 0)\n",
    "print(bolt_img_rotate_degree)"
   ]
  },
  {
   "cell_type": "code",
   "execution_count": 36,
   "metadata": {},
   "outputs": [],
   "source": [
    "rect_img = plt.imread(r\"D:\\image_processing_practice\\DIP_Java\\imagingbook_images_de3\\ch10\\roundness-2-200.tif\")[:,:,0]"
   ]
  },
  {
   "cell_type": "code",
   "execution_count": 37,
   "metadata": {},
   "outputs": [
    {
     "data": {
      "image/png": "[encoded data removed]",
      "text/plain": [
       "<Figure size 432x288 with 1 Axes>"
      ]
     },
     "metadata": {
      "needs_background": "light"
     },
     "output_type": "display_data"
    }
   ],
   "source": [
    "plt.imshow(rect_img, cmap=\"gray\")\n",
    "plt.show()"
   ]
  },
  {
   "cell_type": "code",
   "execution_count": 38,
   "metadata": {},
   "outputs": [
    {
     "data": {
      "image/png": "[encoded data removed]",
      "text/plain": [
       "<Figure size 432x288 with 1 Axes>"
      ]
     },
     "metadata": {
      "needs_background": "light"
     },
     "output_type": "display_data"
    }
   ],
   "source": [
    "hist_rect = cv2.calcHist([rect_img], [0], None, [256], [0, 256])\n",
    "plt.plot(hist_rect)\n",
    "plt.show()"
   ]
  },
  {
   "cell_type": "code",
   "execution_count": 44,
   "metadata": {},
   "outputs": [
    {
     "name": "stdout",
     "output_type": "stream",
     "text": [
      "-66.10588766214663\n"
     ]
    }
   ],
   "source": [
    "rect_img_rotate_degree = compute_degree(rect_img, 255)\n",
    "print(rect_img_rotate_degree)"
   ]
  },
  {
   "cell_type": "markdown",
   "metadata": {},
   "source": [
    "![ch10_mmbased_geoprop](../assets/ch10_mmbased_geoprop.png)"
   ]
  },
  {
   "cell_type": "code",
   "execution_count": null,
   "metadata": {},
   "outputs": [],
   "source": []
  }
 ],
 "metadata": {
  "kernelspec": {
   "display_name": "imgpractice",
   "language": "python",
   "name": "imgpractice"
  },
  "language_info": {
   "codemirror_mode": {
    "name": "ipython",
    "version": 3
   },
   "file_extension": ".py",
   "mimetype": "text/x-python",
   "name": "python",
   "nbconvert_exporter": "python",
   "pygments_lexer": "ipython3",
   "version": "3.9.13"
  },
  "orig_nbformat": 4,
  "vscode": {
   "interpreter": {
    "hash": "abe4cc62e71efd28026365d4753af26f60158fdd257900fb3e00a4964f4677fe"
   }
  }
 },
 "nbformat": 4,
 "nbformat_minor": 2
}
