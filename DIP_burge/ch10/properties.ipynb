{
 "cells": [
  {
   "cell_type": "code",
   "execution_count": 1,
   "metadata": {},
   "outputs": [],
   "source": [
    "import cv2\n",
    "import matplotlib.pyplot as plt\n",
    "import numpy as np\n",
    "import os\n",
    "import math\n",
    "import seaborn as sns\n",
    "from scipy import signal\n",
    "from scipy.ndimage import gaussian_filter\n",
    "from matplotlib.colors import LogNorm, Normalize\n",
    "import random\n",
    "from queue import Queue"
   ]
  },
  {
   "cell_type": "code",
   "execution_count": 2,
   "metadata": {},
   "outputs": [],
   "source": [
    "def moment(img, order_p, order_q, fg_val):\n",
    "    Mpq = 0.0\n",
    "    (height, width) = img.shape\n",
    "    for h in range(height):\n",
    "        for w in range(width):\n",
    "            if(img[h,w]==fg_val):\n",
    "                Mpq += ((w**order_p)*(h**order_q))\n",
    "    return Mpq"
   ]
  },
  {
   "cell_type": "code",
   "execution_count": 3,
   "metadata": {},
   "outputs": [],
   "source": [
    "def central_moment(img, order_p, order_q, fg_val):\n",
    "    m_00 = moment(img, 0, 0, fg_val)\n",
    "    x_ctr = moment(img, 1, 0, fg_val) / m_00\n",
    "    y_ctr = moment(img, 0, 1, fg_val) / m_00\n",
    "    (height, width) = img.shape\n",
    "    cMpq = 0.0\n",
    "    for h in range(height):\n",
    "        for w in range(width):\n",
    "            if(img[h,w]==fg_val):\n",
    "                cMpq += ((w-x_ctr)**order_p)*((h-y_ctr)**order_q)\n",
    "    return cMpq"
   ]
  },
  {
   "cell_type": "code",
   "execution_count": 4,
   "metadata": {},
   "outputs": [],
   "source": [
    "def normalized_central_moment(img, order_p, order_q, fg_val):\n",
    "    m_00 = moment(img, 0, 0, fg_val)\n",
    "    norm = m_00 ** (0.5*(order_p+order_q+2))\n",
    "    return central_moment(img, order_p, order_q, fg_val)/norm"
   ]
  },
  {
   "cell_type": "code",
   "execution_count": 5,
   "metadata": {},
   "outputs": [],
   "source": [
    "def compute_degree(img, fg_value):\n",
    "    cm_11 = central_moment(img, 1, 1, fg_value)\n",
    "    cm_20 = central_moment(img, 2, 0, fg_value)\n",
    "    cm_02 = central_moment(img, 0, 2, fg_value)\n",
    "    img_rotate_rad = 0.5*math.atan2(2*cm_11, cm_20-cm_02)\n",
    "    img_rotate_deg = math.degrees(img_rotate_rad)\n",
    "    return img_rotate_rad, img_rotate_deg"
   ]
  },
  {
   "cell_type": "code",
   "execution_count": 6,
   "metadata": {},
   "outputs": [],
   "source": [
    "bolt_img = plt.imread(r\"D:\\image_processing_practice\\DIP_Java\\imagingbook_images_de3\\ch10\\bolt-clean.tif\")[:,:,0]"
   ]
  },
  {
   "cell_type": "code",
   "execution_count": 7,
   "metadata": {},
   "outputs": [
    {
     "name": "stdout",
     "output_type": "stream",
     "text": [
      "(224, 250)\n"
     ]
    },
    {
     "data": {
      "image/png": "[encoded data removed]",
      "text/plain": [
       "<Figure size 432x288 with 1 Axes>"
      ]
     },
     "metadata": {
      "needs_background": "light"
     },
     "output_type": "display_data"
    }
   ],
   "source": [
    "print(bolt_img.shape)\n",
    "plt.imshow(bolt_img, cmap=\"gray\")\n",
    "plt.show()"
   ]
  },
  {
   "cell_type": "code",
   "execution_count": 8,
   "metadata": {},
   "outputs": [
    {
     "name": "stdout",
     "output_type": "stream",
     "text": [
      "37.404351266820434\n"
     ]
    }
   ],
   "source": [
    "bolt_img_rotate_radian, bolt_img_rotate_degree = compute_degree(bolt_img, 0)\n",
    "print(bolt_img_rotate_degree)"
   ]
  },
  {
   "cell_type": "code",
   "execution_count": 9,
   "metadata": {},
   "outputs": [],
   "source": [
    "rect_img = plt.imread(r\"D:\\image_processing_practice\\DIP_Java\\imagingbook_images_de3\\ch10\\roundness-2-200.tif\")[:,:,0]"
   ]
  },
  {
   "cell_type": "code",
   "execution_count": 10,
   "metadata": {},
   "outputs": [
    {
     "data": {
      "image/png": "[encoded data removed]",
      "text/plain": [
       "<Figure size 432x288 with 1 Axes>"
      ]
     },
     "metadata": {
      "needs_background": "light"
     },
     "output_type": "display_data"
    }
   ],
   "source": [
    "plt.imshow(rect_img, cmap=\"gray\")\n",
    "plt.show()"
   ]
  },
  {
   "cell_type": "code",
   "execution_count": 11,
   "metadata": {},
   "outputs": [
    {
     "data": {
      "image/png": "[encoded data removed]",
      "text/plain": [
       "<Figure size 432x288 with 1 Axes>"
      ]
     },
     "metadata": {
      "needs_background": "light"
     },
     "output_type": "display_data"
    }
   ],
   "source": [
    "hist_rect = cv2.calcHist([rect_img], [0], None, [256], [0, 256])\n",
    "plt.plot(hist_rect)\n",
    "plt.show()"
   ]
  },
  {
   "cell_type": "code",
   "execution_count": 12,
   "metadata": {},
   "outputs": [
    {
     "name": "stdout",
     "output_type": "stream",
     "text": [
      "-66.10588766214663\n"
     ]
    }
   ],
   "source": [
    "rect_img_rotate_radian, rect_img_rotate_degree = compute_degree(rect_img, 255)\n",
    "print(rect_img_rotate_degree)"
   ]
  },
  {
   "cell_type": "markdown",
   "metadata": {},
   "source": [
    "![ch10_mmbased_geoprop](../assets/ch10_mmbased_geoprop.png)"
   ]
  },
  {
   "cell_type": "code",
   "execution_count": 37,
   "metadata": {},
   "outputs": [],
   "source": [
    "# eigenvalue is an important component for creating ellipse shape\n",
    "# highest eigenvalue must be used for computing r_a\n",
    "def ellipse_axes(img, fg_val):\n",
    "    m_00 = moment(img, 0, 0, fg_val)\n",
    "    cm_11 = central_moment(img, 1, 1, fg_val)\n",
    "    cm_20 = central_moment(img, 2, 0, fg_val)\n",
    "    cm_02 = central_moment(img, 0, 2, fg_val)\n",
    "    A = np.array([[cm_20, cm_11],[cm_11, cm_02]])\n",
    "    w = np.linalg.eigvals(A)\n",
    "    print(w)\n",
    "    r_a = 2*np.sqrt(max(w)/m_00)\n",
    "    r_b = 2*np.sqrt(min(w)/m_00)\n",
    "    return r_a, r_b"
   ]
  },
  {
   "cell_type": "code",
   "execution_count": 38,
   "metadata": {},
   "outputs": [],
   "source": [
    "def ellipse_parametric_eq(img, t, angle_rad, r_a, r_b, fg_value):\n",
    "    m_10 = moment(img, 1, 0, fg_value)\n",
    "    m_01 = moment(img, 0, 1, fg_value)\n",
    "    m_00 = moment(img, 0, 0, fg_value)\n",
    "    x_bar = m_10/m_00\n",
    "    y_bar = m_01/m_00\n",
    "    x_pos = x_bar + (np.cos(angle_rad)*r_a*np.cos(t)) - (np.sin(angle_rad)*r_b*np.sin(t))\n",
    "    y_pos = y_bar + (np.sin(angle_rad)*r_a*np.cos(t)) + (np.cos(angle_rad)*r_b*np.sin(t))\n",
    "    return x_bar, y_bar, x_pos, y_pos"
   ]
  },
  {
   "cell_type": "code",
   "execution_count": 39,
   "metadata": {},
   "outputs": [
    {
     "name": "stdout",
     "output_type": "stream",
     "text": [
      "[1.03728388e+08 1.37638682e+07]\n",
      "144.9166580049678 52.788551958844664\n"
     ]
    }
   ],
   "source": [
    "r_bolt_a, r_bolt_b = ellipse_axes(bolt_img, 0)\n",
    "print(r_bolt_a, r_bolt_b)"
   ]
  },
  {
   "cell_type": "code",
   "execution_count": 40,
   "metadata": {},
   "outputs": [
    {
     "name": "stdout",
     "output_type": "stream",
     "text": [
      "37.404351266820434 0.6528290841785286\n"
     ]
    }
   ],
   "source": [
    "print(bolt_img_rotate_degree, bolt_img_rotate_radian)"
   ]
  },
  {
   "cell_type": "code",
   "execution_count": 41,
   "metadata": {},
   "outputs": [],
   "source": [
    "ang = np.linspace(0, 2*np.pi, 50)\n",
    "x_li = []\n",
    "y_li = []\n",
    "for data in ang:\n",
    "    _, _, x_el, y_el = ellipse_parametric_eq(bolt_img, data, bolt_img_rotate_radian, r_bolt_a, r_bolt_b, 0)\n",
    "    x_li.append(x_el)\n",
    "    y_li.append(y_el)"
   ]
  },
  {
   "cell_type": "code",
   "execution_count": 42,
   "metadata": {},
   "outputs": [],
   "source": [
    "x_bar_el, y_bar_el, x_el, y_el = ellipse_parametric_eq(bolt_img, 0, bolt_img_rotate_radian, r_bolt_a, r_bolt_b, 0)"
   ]
  },
  {
   "cell_type": "code",
   "execution_count": 43,
   "metadata": {},
   "outputs": [
    {
     "data": {
      "text/plain": [
       "[<matplotlib.lines.Line2D at 0x1947bfae5e0>]"
      ]
     },
     "execution_count": 43,
     "metadata": {},
     "output_type": "execute_result"
    },
    {
     "data": {
      "image/png": "[encoded data removed]",
      "text/plain": [
       "<Figure size 432x288 with 1 Axes>"
      ]
     },
     "metadata": {
      "needs_background": "light"
     },
     "output_type": "display_data"
    }
   ],
   "source": [
    "plt.plot(x_li, y_li)\n",
    "plt.imshow(bolt_img, cmap=\"gray\")\n",
    "plt.plot(x_bar_el, y_bar_el, marker=\"o\", color=\"orange\")\n",
    "plt.plot(x_el, y_el, marker=\"o\", color=\"blue\")\n",
    "plt.plot([x_bar_el, x_el], [y_bar_el, y_el])"
   ]
  },
  {
   "cell_type": "code",
   "execution_count": null,
   "metadata": {},
   "outputs": [],
   "source": []
  },
  {
   "cell_type": "code",
   "execution_count": 44,
   "metadata": {},
   "outputs": [
    {
     "name": "stdout",
     "output_type": "stream",
     "text": [
      "[10926231.42144163 42001117.31424497]\n",
      "102.36216854760349 52.20886518066706\n"
     ]
    }
   ],
   "source": [
    "r_rect_a, r_rect_b = ellipse_axes(rect_img, 255)\n",
    "print(r_rect_a, r_rect_b)"
   ]
  },
  {
   "cell_type": "code",
   "execution_count": 45,
   "metadata": {},
   "outputs": [
    {
     "name": "stdout",
     "output_type": "stream",
     "text": [
      "-66.10588766214663 -1.1537653946579556\n"
     ]
    }
   ],
   "source": [
    "print(rect_img_rotate_degree, rect_img_rotate_radian)"
   ]
  },
  {
   "cell_type": "code",
   "execution_count": 46,
   "metadata": {},
   "outputs": [],
   "source": [
    "ang = np.linspace(0, 2*np.pi, 50)\n",
    "x_li = []\n",
    "y_li = []\n",
    "for data in ang:\n",
    "    _, _, x_el, y_el = ellipse_parametric_eq(rect_img, data, rect_img_rotate_radian, r_rect_a, r_rect_b, 255)\n",
    "    x_li.append(x_el)\n",
    "    y_li.append(y_el)"
   ]
  },
  {
   "cell_type": "code",
   "execution_count": 47,
   "metadata": {},
   "outputs": [],
   "source": [
    "x_bar_el, y_bar_el, x_el, y_el = ellipse_parametric_eq(rect_img, 0, rect_img_rotate_radian, r_rect_a, r_rect_b, 255)"
   ]
  },
  {
   "cell_type": "code",
   "execution_count": 48,
   "metadata": {},
   "outputs": [
    {
     "data": {
      "text/plain": [
       "[<matplotlib.lines.Line2D at 0x1947cff91c0>]"
      ]
     },
     "execution_count": 48,
     "metadata": {},
     "output_type": "execute_result"
    },
    {
     "data": {
      "image/png": "[encoded data removed]",
      "text/plain": [
       "<Figure size 432x288 with 1 Axes>"
      ]
     },
     "metadata": {
      "needs_background": "light"
     },
     "output_type": "display_data"
    }
   ],
   "source": [
    "plt.plot(x_li, y_li)\n",
    "plt.imshow(rect_img, cmap=\"gray\")\n",
    "plt.plot(x_bar_el, y_bar_el, marker=\"o\", color=\"orange\")\n",
    "plt.plot(x_el, y_el, marker=\"o\", color=\"blue\")\n",
    "plt.plot([x_bar_el, x_el], [y_bar_el, y_el])"
   ]
  },
  {
   "cell_type": "code",
   "execution_count": null,
   "metadata": {},
   "outputs": [],
   "source": []
  },
  {
   "cell_type": "code",
   "execution_count": 49,
   "metadata": {},
   "outputs": [],
   "source": [
    "leaf_img = plt.imread(r\"D:\\image_processing_practice\\DIP_Java\\imagingbook_images_de3\\ch10\\pliers.jpg\")[:,:,0]"
   ]
  },
  {
   "cell_type": "code",
   "execution_count": 50,
   "metadata": {},
   "outputs": [
    {
     "data": {
      "text/plain": [
       "<matplotlib.image.AxesImage at 0x1947d049160>"
      ]
     },
     "execution_count": 50,
     "metadata": {},
     "output_type": "execute_result"
    },
    {
     "data": {
      "image/png": "[encoded data removed]",
      "text/plain": [
       "<Figure size 432x288 with 1 Axes>"
      ]
     },
     "metadata": {
      "needs_background": "light"
     },
     "output_type": "display_data"
    }
   ],
   "source": [
    "plt.imshow(leaf_img, cmap=\"gray\")"
   ]
  },
  {
   "cell_type": "code",
   "execution_count": 51,
   "metadata": {},
   "outputs": [
    {
     "data": {
      "text/plain": [
       "array([  0,   1,   2,   3,   4,   5,   6,   7,   8, 247, 248, 249, 250,\n",
       "       251, 252, 253, 254, 255], dtype=uint8)"
      ]
     },
     "execution_count": 51,
     "metadata": {},
     "output_type": "execute_result"
    }
   ],
   "source": [
    "np.unique(leaf_img)"
   ]
  },
  {
   "cell_type": "code",
   "execution_count": 52,
   "metadata": {},
   "outputs": [
    {
     "name": "stdout",
     "output_type": "stream",
     "text": [
      "61.184383729509186\n"
     ]
    }
   ],
   "source": [
    "leaf_angle_rad, leaf_angle_deg = compute_degree(leaf_img, 0)\n",
    "print(leaf_angle_deg)"
   ]
  },
  {
   "cell_type": "code",
   "execution_count": 53,
   "metadata": {},
   "outputs": [
    {
     "name": "stdout",
     "output_type": "stream",
     "text": [
      "[1.78781430e+07 1.11503137e+08]\n"
     ]
    }
   ],
   "source": [
    "r_leaf_a, r_leaf_b = ellipse_axes(leaf_img, 0)"
   ]
  },
  {
   "cell_type": "code",
   "execution_count": 54,
   "metadata": {},
   "outputs": [],
   "source": [
    "x_bar_el, y_bar_el, x_el, y_el = ellipse_parametric_eq(leaf_img, 0, leaf_angle_rad, r_leaf_a, r_leaf_b, 0)"
   ]
  },
  {
   "cell_type": "code",
   "execution_count": 55,
   "metadata": {},
   "outputs": [],
   "source": [
    "ang = np.linspace(0, 2*np.pi, 50)\n",
    "x_li = []\n",
    "y_li = []\n",
    "for data in ang:\n",
    "    _, _, x_el, y_el = ellipse_parametric_eq(leaf_img, data, leaf_angle_rad, r_leaf_a, r_leaf_b, 0)\n",
    "    x_li.append(x_el)\n",
    "    y_li.append(y_el)"
   ]
  },
  {
   "cell_type": "code",
   "execution_count": 56,
   "metadata": {},
   "outputs": [
    {
     "data": {
      "text/plain": [
       "[<matplotlib.lines.Line2D at 0x1947d0d04f0>]"
      ]
     },
     "execution_count": 56,
     "metadata": {},
     "output_type": "execute_result"
    },
    {
     "data": {
      "image/png": "[encoded data removed]",
      "text/plain": [
       "<Figure size 432x288 with 1 Axes>"
      ]
     },
     "metadata": {
      "needs_background": "light"
     },
     "output_type": "display_data"
    }
   ],
   "source": [
    "plt.plot(x_li, y_li)\n",
    "plt.imshow(leaf_img, cmap=\"gray\")\n",
    "plt.plot(x_bar_el, y_bar_el, marker=\"o\", color=\"orange\")\n",
    "plt.plot(x_el, y_el, marker=\"o\", color=\"blue\")\n",
    "plt.plot([x_bar_el, x_el], [y_bar_el, y_el])"
   ]
  },
  {
   "cell_type": "code",
   "execution_count": null,
   "metadata": {},
   "outputs": [],
   "source": []
  }
 ],
 "metadata": {
  "kernelspec": {
   "display_name": "imgpractice",
   "language": "python",
   "name": "imgpractice"
  },
  "language_info": {
   "codemirror_mode": {
    "name": "ipython",
    "version": 3
   },
   "file_extension": ".py",
   "mimetype": "text/x-python",
   "name": "python",
   "nbconvert_exporter": "python",
   "pygments_lexer": "ipython3",
   "version": "3.9.13"
  },
  "orig_nbformat": 4,
  "vscode": {
   "interpreter": {
    "hash": "abe4cc62e71efd28026365d4753af26f60158fdd257900fb3e00a4964f4677fe"
   }
  }
 },
 "nbformat": 4,
 "nbformat_minor": 2
}
